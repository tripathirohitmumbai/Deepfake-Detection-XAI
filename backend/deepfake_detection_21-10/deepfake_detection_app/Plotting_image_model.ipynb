{
 "cells": [
  {
   "cell_type": "code",
   "execution_count": 1,
   "id": "facf0f3e-b7e9-491c-9b0c-7eb7b8a9d7f1",
   "metadata": {},
   "outputs": [],
   "source": [
    "from tensorflow.keras.models import load_model"
   ]
  },
  {
   "cell_type": "code",
   "execution_count": 2,
   "id": "a1efbcfe-1a70-41c6-a4d8-66434e773eae",
   "metadata": {},
   "outputs": [
    {
     "name": "stderr",
     "output_type": "stream",
     "text": [
      "WARNING:absl:Compiled the loaded model, but the compiled metrics have yet to be built. `model.compile_metrics` will be empty until you train or evaluate the model.\n"
     ]
    }
   ],
   "source": [
    "model = load_model(\"fake-image-detection.h5\")"
   ]
  },
  {
   "cell_type": "code",
   "execution_count": null,
   "id": "d98a6215-40a4-4567-9344-ae5a2aa771d0",
   "metadata": {},
   "outputs": [],
   "source": [
    "import numpy as np\n",
    "import pandas as pd\n",
    "import matplotlib.pyplot as plt\n",
    "from sklearn.metrics import roc_curve, auc, precision_recall_curve, classification_report\n",
    "from keras.models import load_model\n",
    "\n",
    "# Load your model\n",
    "model = load_model('path/to/your/deepfake_model.h5')\n",
    "\n",
    "# Load your data (make sure to have your test images and labels)\n",
    "# X_test: numpy array of test images\n",
    "# y_test: numpy array of true labels (0 for real, 1 for fake)"
   ]
  }
 ],
 "metadata": {
  "kernelspec": {
   "display_name": "Python 3 (ipykernel)",
   "language": "python",
   "name": "python3"
  },
  "language_info": {
   "codemirror_mode": {
    "name": "ipython",
    "version": 3
   },
   "file_extension": ".py",
   "mimetype": "text/x-python",
   "name": "python",
   "nbconvert_exporter": "python",
   "pygments_lexer": "ipython3",
   "version": "3.10.11"
  }
 },
 "nbformat": 4,
 "nbformat_minor": 5
}
